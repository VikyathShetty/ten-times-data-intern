{
 "cells": [
  {
   "cell_type": "code",
   "execution_count": 39,
   "id": "fdb33c44",
   "metadata": {},
   "outputs": [],
   "source": [
    "from sqlalchemy import create_engine, Column, Integer, String, DateTime\n",
    "from sqlalchemy.ext.declarative import declarative_base\n",
    "from sqlalchemy.orm import sessionmaker\n",
    "from celery import Celery\n",
    "import feedparser\n",
    "from datetime import datetime\n",
    "from typing import List\n",
    "import logging\n",
    "import datetime"
   ]
  },
  {
   "cell_type": "code",
   "execution_count": 40,
   "id": "25dd943c",
   "metadata": {},
   "outputs": [],
   "source": [
    "from nltk.tokenize import word_tokenize\n",
    "from nltk.corpus import stopwords\n",
    "from nltk.stem import PorterStemmer"
   ]
  },
  {
   "cell_type": "code",
   "execution_count": 41,
   "id": "c9aba7ce",
   "metadata": {},
   "outputs": [],
   "source": [
    "logging.basicConfig(level=logging.INFO)\n",
    "logger = logging.getLogger(__name__)"
   ]
  },
  {
   "cell_type": "code",
   "execution_count": 42,
   "id": "19a47e43",
   "metadata": {},
   "outputs": [],
   "source": [
    "# Database Configuration\n",
    "DATABASE_URL = 'sqlite:///ten-times-file.db'\n",
    "engine = create_engine(DATABASE_URL)\n",
    "Base = declarative_base()"
   ]
  },
  {
   "cell_type": "code",
   "execution_count": 43,
   "id": "7c3670c4",
   "metadata": {},
   "outputs": [],
   "source": [
    "# Define Article Model\n",
    "class Article(Base):\n",
    "    __tablename__ = 'articles'\n",
    "\n",
    "    id = Column(Integer, primary_key=True, autoincrement=True)\n",
    "    title = Column(String)\n",
    "    content = Column(String)\n",
    "    published = Column(DateTime)\n",
    "    source_url = Column(String)"
   ]
  },
  {
   "cell_type": "code",
   "execution_count": 44,
   "id": "bf981ed3",
   "metadata": {},
   "outputs": [],
   "source": [
    "# Celery Configuration\n",
    "app = Celery('tasks', broker='redis://localhost:6379/0')"
   ]
  },
  {
   "cell_type": "code",
   "execution_count": 45,
   "id": "a9042bca",
   "metadata": {},
   "outputs": [],
   "source": [
    "stop_words = set(stopwords.words('english'))\n",
    "stemmer = PorterStemmer()"
   ]
  },
  {
   "cell_type": "code",
   "execution_count": 46,
   "id": "709bb463",
   "metadata": {},
   "outputs": [],
   "source": [
    "def process_text(text):\n",
    "    tokens = word_tokenize(text)\n",
    "    filtered_tokens = [stemmer.stem(word.lower()) for word in tokens if word.isalpha() and word.lower() not in stop_words]\n",
    "    return filtered_tokens\n",
    "\n",
    "def classify_category(text):\n",
    "    return 'politics'"
   ]
  },
  {
   "cell_type": "code",
   "execution_count": 47,
   "id": "d0e3a3bc",
   "metadata": {},
   "outputs": [],
   "source": [
    "Base.metadata.create_all(engine)\n",
    "Session = sessionmaker(bind=engine)\n",
    "\n",
    "def parse_feed(url):\n",
    "    feed = feedparser.parse(url)\n",
    "    articles = []\n",
    "    for entry in feed.entries:\n",
    "        article = {\n",
    "            'title': entry.get('title'),\n",
    "            'content': entry.get('summary'),\n",
    "            'published': datetime.strptime(entry.get('published'), '%a, %d %b %Y %H:%M:%S %Z'),\n",
    "            'source_url': entry.get('link')\n",
    "        }\n",
    "        articles.append(article)\n",
    "    return articles"
   ]
  },
  {
   "cell_type": "code",
   "execution_count": 48,
   "id": "a348067d",
   "metadata": {},
   "outputs": [],
   "source": [
    "\n",
    "def parse_feed(url):\n",
    "    feed = feedparser.parse(url)\n",
    "    articles = []\n",
    "    for entry in feed.entries:\n",
    "        title = entry.get('title')\n",
    "        content = entry.get('summary')\n",
    "        published = entry.get('published')\n",
    "        if published is not None:\n",
    "            published = datetime.datetime.strptime(published, '%a, %d %b %Y %H:%M:%S %Z')\n",
    "        source_url = entry.get('link')\n",
    "        article = {'title': title, 'content': content, 'published': published, 'source_url': source_url}\n",
    "        articles.append(article)\n",
    "    return articles\n"
   ]
  },
  {
   "cell_type": "code",
   "execution_count": 49,
   "id": "07512f4a",
   "metadata": {},
   "outputs": [],
   "source": [
    "# Database Storage\n",
    "def store_articles(articles: List[dict]):\n",
    "    session = Session()\n",
    "    try:\n",
    "        for article in articles:\n",
    "            existing_article = session.query(Article).filter_by(source_url=article['source_url']).first()\n",
    "            if not existing_article:\n",
    "                new_article = Article(**article)\n",
    "                session.add(new_article)\n",
    "        session.commit()\n",
    "        logger.info(\"Articles stored successfully\")\n",
    "    except Exception as e:\n",
    "        logger.error(f\"Error storing articles: {e}\")\n",
    "        session.rollback()\n",
    "    finally:\n",
    "        session.close()"
   ]
  },
  {
   "cell_type": "code",
   "execution_count": 50,
   "id": "6ddbf7f3",
   "metadata": {},
   "outputs": [],
   "source": [
    "\n",
    "# Task Queue and News Processing\n",
    "@app.task\n",
    "def process_articles():\n",
    "    session = Session()\n",
    "    try:\n",
    "        articles = session.query(Article).filter_by(category=None).all()\n",
    "        for article in articles:\n",
    "            tokens = process_text(article.content)\n",
    "            category = classify_category(tokens)\n",
    "            article.category = category\n",
    "        session.commit()\n",
    "        logger.info(\"Articles processed successfully\")\n",
    "    except Exception as e:\n",
    "        logger.error(f\"Error processing articles: {e}\")\n",
    "        session.rollback()\n",
    "    finally:\n",
    "        session.close()"
   ]
  },
  {
   "cell_type": "code",
   "execution_count": null,
   "id": "95d8ddf8",
   "metadata": {},
   "outputs": [],
   "source": [
    "if __name__ == '__main__':\n",
    "    feed_urls = [\n",
    "        \"http://rss.cnn.com/rss/cnn_topstories.rss\",\n",
    "        \"http://qz.com/feed\",\n",
    "        \"http://feeds.foxnews.com/foxnews/politics\",\n",
    "        \"http://feeds.reuters.com/reuters/businessNews\",\n",
    "        \"http://feeds.feedburner.com/NewshourWorld\",\n",
    "        \"https://feeds.bbci.co.uk/news/world/asia/india/rss.xml\"\n",
    "    ]\n",
    "\n",
    "    for url in feed_urls:\n",
    "        articles = parse_feed(url)\n",
    "        store_articles(articles)\n",
    "        process_articles.delay()"
   ]
  },
  {
   "cell_type": "code",
   "execution_count": null,
   "id": "1e4863f3",
   "metadata": {},
   "outputs": [],
   "source": []
  },
  {
   "cell_type": "code",
   "execution_count": null,
   "id": "da62877e",
   "metadata": {},
   "outputs": [],
   "source": []
  },
  {
   "cell_type": "code",
   "execution_count": null,
   "id": "f03ba081",
   "metadata": {},
   "outputs": [],
   "source": []
  }
 ],
 "metadata": {
  "kernelspec": {
   "display_name": "Python 3 (ipykernel)",
   "language": "python",
   "name": "python3"
  },
  "language_info": {
   "codemirror_mode": {
    "name": "ipython",
    "version": 3
   },
   "file_extension": ".py",
   "mimetype": "text/x-python",
   "name": "python",
   "nbconvert_exporter": "python",
   "pygments_lexer": "ipython3",
   "version": "3.10.9"
  }
 },
 "nbformat": 4,
 "nbformat_minor": 5
}
